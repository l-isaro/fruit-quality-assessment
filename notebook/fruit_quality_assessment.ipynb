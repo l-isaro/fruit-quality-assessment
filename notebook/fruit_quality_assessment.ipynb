{
  "cells": [
    {
      "cell_type": "markdown",
      "metadata": {
        "id": "view-in-github",
        "colab_type": "text"
      },
      "source": [
        "<a href=\"https://colab.research.google.com/github/l-isaro/fruit-quality-assessment/blob/main/notebook/fruit_quality_assessment.ipynb\" target=\"_parent\"><img src=\"https://colab.research.google.com/assets/colab-badge.svg\" alt=\"Open In Colab\"/></a>"
      ]
    },
    {
      "cell_type": "markdown",
      "id": "bffb005f",
      "metadata": {
        "id": "bffb005f"
      },
      "source": [
        "# 🍎 Fruit Quality Classifier Notebook\n",
        "This notebook trains and evaluates a MobileNetV2 model on fruit quality images."
      ]
    },
    {
      "cell_type": "code",
      "execution_count": null,
      "id": "d16eedd8",
      "metadata": {
        "id": "d16eedd8"
      },
      "outputs": [],
      "source": [
        "from src.preprocessing import get_data_generators\n",
        "from src.model import build_model, save_model"
      ]
    },
    {
      "cell_type": "code",
      "execution_count": null,
      "id": "26c4a9a8",
      "metadata": {
        "id": "26c4a9a8"
      },
      "outputs": [],
      "source": [
        "# Load the data generators\n",
        "train_gen, test_gen = get_data_generators('/mnt/data/extracted_dataset/data')"
      ]
    },
    {
      "cell_type": "code",
      "execution_count": null,
      "id": "ac6d31b4",
      "metadata": {
        "id": "ac6d31b4"
      },
      "outputs": [],
      "source": [
        "# Build the model\n",
        "model = build_model(input_shape=(224, 224, 3), num_classes=6)"
      ]
    },
    {
      "cell_type": "code",
      "execution_count": null,
      "id": "690e385c",
      "metadata": {
        "id": "690e385c"
      },
      "outputs": [],
      "source": [
        "# Train the model\n",
        "model.fit(\n",
        "    train_gen,\n",
        "    epochs=10,\n",
        "    validation_data=test_gen\n",
        ")"
      ]
    },
    {
      "cell_type": "code",
      "execution_count": null,
      "id": "ec32fb50",
      "metadata": {
        "id": "ec32fb50"
      },
      "outputs": [],
      "source": [
        "# Save the trained model\n",
        "save_model(model, 'models/fruit_model.h5')"
      ]
    },
    {
      "cell_type": "markdown",
      "id": "3880d1a4",
      "metadata": {
        "id": "3880d1a4"
      },
      "source": [
        "## 📊 Model Evaluation\n",
        "Evaluate the model on test data using classification metrics."
      ]
    },
    {
      "cell_type": "code",
      "execution_count": null,
      "id": "ef9cae00",
      "metadata": {
        "id": "ef9cae00"
      },
      "outputs": [],
      "source": [
        "# Evaluate model performance\n",
        "from sklearn.metrics import classification_report, confusion_matrix\n",
        "import numpy as np\n",
        "import matplotlib.pyplot as plt\n",
        "import seaborn as sns\n",
        "\n",
        "# Get predictions\n",
        "y_true = test_gen.classes\n",
        "y_pred_probs = model.predict(test_gen)\n",
        "y_pred = np.argmax(y_pred_probs, axis=1)\n",
        "\n",
        "# Classification report\n",
        "class_labels = list(test_gen.class_indices.keys())\n",
        "print(classification_report(y_true, y_pred, target_names=class_labels))"
      ]
    },
    {
      "cell_type": "code",
      "execution_count": null,
      "id": "734e0717",
      "metadata": {
        "id": "734e0717"
      },
      "outputs": [],
      "source": [
        "# Confusion matrix\n",
        "cm = confusion_matrix(y_true, y_pred)\n",
        "plt.figure(figsize=(8,6))\n",
        "sns.heatmap(cm, annot=True, fmt='d', cmap='Blues', xticklabels=class_labels, yticklabels=class_labels)\n",
        "plt.xlabel('Predicted')\n",
        "plt.ylabel('Actual')\n",
        "plt.title('Confusion Matrix')\n",
        "plt.show()"
      ]
    }
  ],
  "metadata": {
    "colab": {
      "provenance": [],
      "include_colab_link": true
    }
  },
  "nbformat": 4,
  "nbformat_minor": 5
}